{
 "cells": [
  {
   "cell_type": "markdown",
   "metadata": {},
   "source": [
    "# Analysis & Visualization of Trending Skincare Products & Ingredients"
   ]
  },
  {
   "cell_type": "code",
   "execution_count": 1,
   "metadata": {},
   "outputs": [],
   "source": [
    "import re\n",
    "import csv\n",
    "import pandas as pd\n",
    "import numpy as np\n",
    "import matplotlib.pyplot as plt\n",
    "import itertools\n",
    "from collections import Counter\n",
    "import plotly.plotly as py\n",
    "import plotly.graph_objs as go\n",
    "from plotly.offline import iplot, init_notebook_mode"
   ]
  },
  {
   "cell_type": "code",
   "execution_count": 2,
   "metadata": {},
   "outputs": [],
   "source": [
    "df = pd.read_csv('skincare_products.csv', index_col=0)"
   ]
  },
  {
   "cell_type": "code",
   "execution_count": 3,
   "metadata": {},
   "outputs": [
    {
     "data": {
      "text/html": [
       "<div>\n",
       "<style scoped>\n",
       "    .dataframe tbody tr th:only-of-type {\n",
       "        vertical-align: middle;\n",
       "    }\n",
       "\n",
       "    .dataframe tbody tr th {\n",
       "        vertical-align: top;\n",
       "    }\n",
       "\n",
       "    .dataframe thead th {\n",
       "        text-align: right;\n",
       "    }\n",
       "</style>\n",
       "<table border=\"1\" class=\"dataframe\">\n",
       "  <thead>\n",
       "    <tr style=\"text-align: right;\">\n",
       "      <th></th>\n",
       "      <th>Name</th>\n",
       "      <th>Brand</th>\n",
       "      <th>Price</th>\n",
       "      <th>Link</th>\n",
       "      <th>Details</th>\n",
       "      <th>Ingredients</th>\n",
       "    </tr>\n",
       "  </thead>\n",
       "  <tbody>\n",
       "    <tr>\n",
       "      <th>0</th>\n",
       "      <td>A-Passioni™ Retinol Cream</td>\n",
       "      <td>DRUNK ELEPHANT</td>\n",
       "      <td>$74.00</td>\n",
       "      <td>https://www.sephora.com/product/a-passioni-ret...</td>\n",
       "      <td>What it is: A clean, cutting-edge formula with...</td>\n",
       "      <td>['\\n- Retinol 1%: Improves the look and feel o...</td>\n",
       "    </tr>\n",
       "    <tr>\n",
       "      <th>1</th>\n",
       "      <td>Violet-C Brightening Serum 20% Vitamin C + 10%...</td>\n",
       "      <td>TATCHA</td>\n",
       "      <td>$88.00</td>\n",
       "      <td>https://www.sephora.com/product/violet-c-brigh...</td>\n",
       "      <td>What it is: A 20 percent vitamin C and 10 perc...</td>\n",
       "      <td>['\\n- Unique 20% Vitamin C Blend: A fast-actin...</td>\n",
       "    </tr>\n",
       "    <tr>\n",
       "      <th>2</th>\n",
       "      <td>The Dewy Skin Cream</td>\n",
       "      <td>TATCHA</td>\n",
       "      <td>$68.00</td>\n",
       "      <td>https://www.sephora.com/product/the-dewy-skin-...</td>\n",
       "      <td>What it is: A rich cream that feeds skin with ...</td>\n",
       "      <td>['\\n- Japanese Purple Rice: Packed with nutrie...</td>\n",
       "    </tr>\n",
       "    <tr>\n",
       "      <th>3</th>\n",
       "      <td>A+ High-Dose Retinol Serum</td>\n",
       "      <td>SUNDAY RILEY</td>\n",
       "      <td>$85.00</td>\n",
       "      <td>https://www.sephora.com/product/a-high-dose-re...</td>\n",
       "      <td>What it is: An advanced-strength retinoid seru...</td>\n",
       "      <td>['\\n- Retinol Ester: Helps reduce the appearan...</td>\n",
       "    </tr>\n",
       "    <tr>\n",
       "      <th>4</th>\n",
       "      <td>Glow2OH™ Dark Spot Toner</td>\n",
       "      <td>OLEHENRIKSEN</td>\n",
       "      <td>$28.00</td>\n",
       "      <td>https://www.sephora.com/product/glow2oh-dark-s...</td>\n",
       "      <td>What it is: A potent toner, supercharged with ...</td>\n",
       "      <td>['\\n- High-potency AHAs (Glycolic Acid and Lac...</td>\n",
       "    </tr>\n",
       "  </tbody>\n",
       "</table>\n",
       "</div>"
      ],
      "text/plain": [
       "                                                Name           Brand   Price  \\\n",
       "0                          A-Passioni™ Retinol Cream  DRUNK ELEPHANT  $74.00   \n",
       "1  Violet-C Brightening Serum 20% Vitamin C + 10%...          TATCHA  $88.00   \n",
       "2                                The Dewy Skin Cream          TATCHA  $68.00   \n",
       "3                         A+ High-Dose Retinol Serum    SUNDAY RILEY  $85.00   \n",
       "4                           Glow2OH™ Dark Spot Toner    OLEHENRIKSEN  $28.00   \n",
       "\n",
       "                                                Link  \\\n",
       "0  https://www.sephora.com/product/a-passioni-ret...   \n",
       "1  https://www.sephora.com/product/violet-c-brigh...   \n",
       "2  https://www.sephora.com/product/the-dewy-skin-...   \n",
       "3  https://www.sephora.com/product/a-high-dose-re...   \n",
       "4  https://www.sephora.com/product/glow2oh-dark-s...   \n",
       "\n",
       "                                             Details  \\\n",
       "0  What it is: A clean, cutting-edge formula with...   \n",
       "1  What it is: A 20 percent vitamin C and 10 perc...   \n",
       "2  What it is: A rich cream that feeds skin with ...   \n",
       "3  What it is: An advanced-strength retinoid seru...   \n",
       "4  What it is: A potent toner, supercharged with ...   \n",
       "\n",
       "                                         Ingredients  \n",
       "0  ['\\n- Retinol 1%: Improves the look and feel o...  \n",
       "1  ['\\n- Unique 20% Vitamin C Blend: A fast-actin...  \n",
       "2  ['\\n- Japanese Purple Rice: Packed with nutrie...  \n",
       "3  ['\\n- Retinol Ester: Helps reduce the appearan...  \n",
       "4  ['\\n- High-potency AHAs (Glycolic Acid and Lac...  "
      ]
     },
     "execution_count": 3,
     "metadata": {},
     "output_type": "execute_result"
    }
   ],
   "source": [
    "df.head()"
   ]
  },
  {
   "cell_type": "code",
   "execution_count": 4,
   "metadata": {},
   "outputs": [],
   "source": [
    "del df['Link']\n",
    "del df['Details']"
   ]
  },
  {
   "cell_type": "code",
   "execution_count": 5,
   "metadata": {},
   "outputs": [],
   "source": [
    "df['Price'] = df['Price'].replace({'\\$': ''}, regex=True)"
   ]
  },
  {
   "cell_type": "markdown",
   "metadata": {},
   "source": [
    "#### Create ingredient list based on products' highlighted ingredients"
   ]
  },
  {
   "cell_type": "code",
   "execution_count": 6,
   "metadata": {},
   "outputs": [],
   "source": [
    "ingredient_list = ['Vitamin C', 'Vitamin A', 'Vitamin E', 'Argan Oil', 'Safflower Oil', 'Sesame Oil', 'Avocado',\n",
    "              'Grape Seed Oil', 'Rose', 'Retinol', 'White Honey', 'Peptides', 'Vitamin F', 'AHA', 'Angelica Root',\n",
    "              'Lotus', 'Peach', 'Witch Hazel', 'Lemon', 'Sugarcane', 'Licorice Root', 'Sandalwood', 'Chamomile',\n",
    "              'Maqui', 'Squalene', 'Viniferine', 'Hyaluronic Acid', 'Butylene Glycol', 'Collagen', 'Ascorbic Acid',\n",
    "              'Lactic Acid', 'Kojic Acid', 'Alguronic Acid', 'Ceramides', 'Mary Thistle', 'Linoleic Acid', 'Charcoal',\n",
    "              'Acid Blend', 'Marine Plant Extract', 'Maracuja', 'Antioxidant Blend', 'Trimoist KMF', 'Glacial Glycoprotein',\n",
    "              'Cerium', 'Algae', 'Kale', 'Spinach', 'Green Tea', 'Manuka Honey', 'PHA', 'Tiger Grass', 'Heather',\n",
    "              'Eucalyptus', 'Cannabis Sativa', 'Arnica Montana', 'Oregano', 'Hemp Seed', 'Passionfruit', 'Black Tea',\n",
    "              'Goji', 'Swiss Glacier Water', 'Oil Blend', 'Caffeine', 'Mudar', 'Watermelon', 'Purple Rice', 'Botanical Extract',\n",
    "              'Bakuchiol', 'Seawater', 'Aloe Vera', 'Meadowfoam', 'Blackcurrant', 'Phytic Acid', 'Pumpkin', 'Papaya', 'Pineapple',\n",
    "              'Honey', 'Oatmeal', 'Gardenia', 'Thyme', 'Salicylic Acid', 'Sulfur', 'Calamine', 'Marula', 'Matcha',\n",
    "              'Kombutcha', 'Cactus', 'Niacinamide', 'Revitelix', 'SymRelief', 'Saponins', 'Mushroom', 'Coconut',\n",
    "              'Caviar Lime', 'Hot Pepper', 'Eyebright', 'Lavender', 'Magnesium', 'Tara', 'Goat Milk', 'Kinetin', 'Lipids',\n",
    "              'Palmitoyl', 'Irish Moor Mud', 'Cucumber', 'Hydroxyapatite', 'Orange', 'Glycolic Acid', 'Grapefruit',\n",
    "              'Hydrocolloid', 'Peppermint', 'Apple', 'Gooseberry', 'Arbutin', 'Alfalfa', 'Adaptogen', 'Ascorbate', 'Bifidus',\n",
    "              'Silk', 'Cocoa Butter', 'Almond', 'Marshmallow', 'White Tea', 'Shea Butter', 'Benzoyl Peroxide', 'Allantoin',\n",
    "              'Ivory Palm Seed', 'Apricot', 'Jojoba Seed', 'Ginseng', 'Amino Acid', 'Chestnut', 'Beetroot', 'Tea Tree',\n",
    "              'Zinc Oxide', 'Sunflower', 'Bearberry', 'Sophora', 'Hydroquinone', 'Sea Buckthorn Berry', 'Citric Acid', 'Pomegranate',\n",
    "              'Diamond', 'Avobenzone', 'Bilboa', 'Elastin', 'Octocrylene', 'Octisalate']"
   ]
  },
  {
   "cell_type": "markdown",
   "metadata": {},
   "source": [
    "#### Loop through product ingredients to find ingredients in ingredient_list and add them to a new list"
   ]
  },
  {
   "cell_type": "code",
   "execution_count": 7,
   "metadata": {},
   "outputs": [],
   "source": [
    "product_ingredients = df['Ingredients'].tolist()\n",
    "found_ingredients = []\n",
    "for i in range(len(product_ingredients)):\n",
    "    match = [x for x in ingredient_list if x in product_ingredients[i]]\n",
    "    found_ingredients.append(match)\n",
    "\n",
    "found_ingredients_list = list(itertools.chain(*found_ingredients))"
   ]
  },
  {
   "cell_type": "markdown",
   "metadata": {},
   "source": [
    "#### Count frequency of ingredients"
   ]
  },
  {
   "cell_type": "code",
   "execution_count": 8,
   "metadata": {},
   "outputs": [],
   "source": [
    "count = Counter(found_ingredients_list)"
   ]
  },
  {
   "cell_type": "markdown",
   "metadata": {},
   "source": [
    "#### Sort by most common ingredients and get top ten ingredients"
   ]
  },
  {
   "cell_type": "code",
   "execution_count": 9,
   "metadata": {},
   "outputs": [],
   "source": [
    "df2 = pd.DataFrame.from_dict(count, orient='index').reset_index()\n",
    "df2 = df2.rename(columns={'index':'Ingredients', 0:'Count'})\n",
    "df2 = df2.sort_values(['Count'], ascending=False)\n",
    "top_ingredients = df2.iloc[0:10]"
   ]
  },
  {
   "cell_type": "code",
   "execution_count": 10,
   "metadata": {},
   "outputs": [
    {
     "data": {
      "text/html": [
       "<div>\n",
       "<style scoped>\n",
       "    .dataframe tbody tr th:only-of-type {\n",
       "        vertical-align: middle;\n",
       "    }\n",
       "\n",
       "    .dataframe tbody tr th {\n",
       "        vertical-align: top;\n",
       "    }\n",
       "\n",
       "    .dataframe thead th {\n",
       "        text-align: right;\n",
       "    }\n",
       "</style>\n",
       "<table border=\"1\" class=\"dataframe\">\n",
       "  <thead>\n",
       "    <tr style=\"text-align: right;\">\n",
       "      <th></th>\n",
       "      <th>Ingredients</th>\n",
       "      <th>Count</th>\n",
       "    </tr>\n",
       "  </thead>\n",
       "  <tbody>\n",
       "    <tr>\n",
       "      <th>5</th>\n",
       "      <td>Hyaluronic Acid</td>\n",
       "      <td>27</td>\n",
       "    </tr>\n",
       "    <tr>\n",
       "      <th>2</th>\n",
       "      <td>Vitamin C</td>\n",
       "      <td>14</td>\n",
       "    </tr>\n",
       "    <tr>\n",
       "      <th>29</th>\n",
       "      <td>Collagen</td>\n",
       "      <td>12</td>\n",
       "    </tr>\n",
       "    <tr>\n",
       "      <th>36</th>\n",
       "      <td>Salicylic Acid</td>\n",
       "      <td>10</td>\n",
       "    </tr>\n",
       "    <tr>\n",
       "      <th>118</th>\n",
       "      <td>Benzoyl Peroxide</td>\n",
       "      <td>9</td>\n",
       "    </tr>\n",
       "    <tr>\n",
       "      <th>17</th>\n",
       "      <td>Glycolic Acid</td>\n",
       "      <td>9</td>\n",
       "    </tr>\n",
       "    <tr>\n",
       "      <th>60</th>\n",
       "      <td>Green Tea</td>\n",
       "      <td>8</td>\n",
       "    </tr>\n",
       "    <tr>\n",
       "      <th>15</th>\n",
       "      <td>Chamomile</td>\n",
       "      <td>8</td>\n",
       "    </tr>\n",
       "    <tr>\n",
       "      <th>0</th>\n",
       "      <td>Retinol</td>\n",
       "      <td>7</td>\n",
       "    </tr>\n",
       "    <tr>\n",
       "      <th>73</th>\n",
       "      <td>Peptides</td>\n",
       "      <td>7</td>\n",
       "    </tr>\n",
       "  </tbody>\n",
       "</table>\n",
       "</div>"
      ],
      "text/plain": [
       "          Ingredients  Count\n",
       "5     Hyaluronic Acid     27\n",
       "2           Vitamin C     14\n",
       "29           Collagen     12\n",
       "36     Salicylic Acid     10\n",
       "118  Benzoyl Peroxide      9\n",
       "17      Glycolic Acid      9\n",
       "60          Green Tea      8\n",
       "15          Chamomile      8\n",
       "0             Retinol      7\n",
       "73           Peptides      7"
      ]
     },
     "execution_count": 10,
     "metadata": {},
     "output_type": "execute_result"
    }
   ],
   "source": [
    "top_ingredients"
   ]
  },
  {
   "cell_type": "markdown",
   "metadata": {},
   "source": [
    "#### Repeat the process for brands"
   ]
  },
  {
   "cell_type": "code",
   "execution_count": 11,
   "metadata": {},
   "outputs": [],
   "source": [
    "count_brands = Counter(df.Brand)\n",
    "df3 = pd.DataFrame.from_dict(count_brands, orient='index').reset_index()\n",
    "df3 = df3.rename(columns={'index':'Brand', 0:'Count'})\n",
    "df3 = df3.sort_values(['Count'], ascending=False)\n",
    "top_brands = df3.iloc[0:10]"
   ]
  },
  {
   "cell_type": "code",
   "execution_count": 12,
   "metadata": {},
   "outputs": [
    {
     "data": {
      "text/html": [
       "<div>\n",
       "<style scoped>\n",
       "    .dataframe tbody tr th:only-of-type {\n",
       "        vertical-align: middle;\n",
       "    }\n",
       "\n",
       "    .dataframe tbody tr th {\n",
       "        vertical-align: top;\n",
       "    }\n",
       "\n",
       "    .dataframe thead th {\n",
       "        text-align: right;\n",
       "    }\n",
       "</style>\n",
       "<table border=\"1\" class=\"dataframe\">\n",
       "  <thead>\n",
       "    <tr style=\"text-align: right;\">\n",
       "      <th></th>\n",
       "      <th>Brand</th>\n",
       "      <th>Count</th>\n",
       "    </tr>\n",
       "  </thead>\n",
       "  <tbody>\n",
       "    <tr>\n",
       "      <th>27</th>\n",
       "      <td>MARIO BADESCU</td>\n",
       "      <td>22</td>\n",
       "    </tr>\n",
       "    <tr>\n",
       "      <th>45</th>\n",
       "      <td>PROACTIV</td>\n",
       "      <td>20</td>\n",
       "    </tr>\n",
       "    <tr>\n",
       "      <th>14</th>\n",
       "      <td>PETER THOMAS ROTH</td>\n",
       "      <td>6</td>\n",
       "    </tr>\n",
       "    <tr>\n",
       "      <th>4</th>\n",
       "      <td>FRESH</td>\n",
       "      <td>6</td>\n",
       "    </tr>\n",
       "    <tr>\n",
       "      <th>16</th>\n",
       "      <td>SEPHORA COLLECTION</td>\n",
       "      <td>6</td>\n",
       "    </tr>\n",
       "    <tr>\n",
       "      <th>29</th>\n",
       "      <td>OBAGI CLINICAL</td>\n",
       "      <td>6</td>\n",
       "    </tr>\n",
       "    <tr>\n",
       "      <th>23</th>\n",
       "      <td>TARTE</td>\n",
       "      <td>5</td>\n",
       "    </tr>\n",
       "    <tr>\n",
       "      <th>0</th>\n",
       "      <td>DRUNK ELEPHANT</td>\n",
       "      <td>4</td>\n",
       "    </tr>\n",
       "    <tr>\n",
       "      <th>6</th>\n",
       "      <td>KIEHL'S SINCE 1851</td>\n",
       "      <td>4</td>\n",
       "    </tr>\n",
       "    <tr>\n",
       "      <th>12</th>\n",
       "      <td>GLAMGLOW</td>\n",
       "      <td>4</td>\n",
       "    </tr>\n",
       "  </tbody>\n",
       "</table>\n",
       "</div>"
      ],
      "text/plain": [
       "                 Brand  Count\n",
       "27       MARIO BADESCU     22\n",
       "45            PROACTIV     20\n",
       "14   PETER THOMAS ROTH      6\n",
       "4                FRESH      6\n",
       "16  SEPHORA COLLECTION      6\n",
       "29      OBAGI CLINICAL      6\n",
       "23               TARTE      5\n",
       "0       DRUNK ELEPHANT      4\n",
       "6   KIEHL'S SINCE 1851      4\n",
       "12            GLAMGLOW      4"
      ]
     },
     "execution_count": 12,
     "metadata": {},
     "output_type": "execute_result"
    }
   ],
   "source": [
    "top_brands"
   ]
  },
  {
   "cell_type": "markdown",
   "metadata": {},
   "source": [
    "#### Get all products that contain the top ten ingredients"
   ]
  },
  {
   "cell_type": "code",
   "execution_count": 13,
   "metadata": {},
   "outputs": [],
   "source": [
    "top_ten_ingredients = ['Hyaluronic Acid', 'Vitamin C', 'Collagen', 'Salicylic Acid',\n",
    "'Benzoyl Peroxide', 'Glycolic Acid', 'Green Tea', 'Chamomile', 'Retinol', 'Peptides']"
   ]
  },
  {
   "cell_type": "code",
   "execution_count": 14,
   "metadata": {},
   "outputs": [],
   "source": [
    "trending_ingredients = []\n",
    "for i in range(len(product_ingredients)):\n",
    "    match = [x for x in top_ten_ingredients if x in product_ingredients[i]]\n",
    "    trending_ingredients.append(match)"
   ]
  },
  {
   "cell_type": "code",
   "execution_count": 15,
   "metadata": {},
   "outputs": [],
   "source": [
    "top_products = pd.DataFrame(columns=['Name', 'Price', 'Trending Ingredients'])\n",
    "top_products.Name = df.Name\n",
    "top_products.Price = df.Price\n",
    "top_products = top_products.dropna(subset=['Name'])\n",
    "top_products = top_products.reset_index(drop=True)\n",
    "\n",
    "trending_ingredients_list = pd.Series(trending_ingredients)\n",
    "top_products['Trending Ingredients'] = trending_ingredients_list\n",
    "top_products = top_products[top_products['Trending Ingredients'].map(lambda d: len(d)) > 0]"
   ]
  },
  {
   "cell_type": "code",
   "execution_count": 16,
   "metadata": {},
   "outputs": [
    {
     "data": {
      "text/html": [
       "<div>\n",
       "<style scoped>\n",
       "    .dataframe tbody tr th:only-of-type {\n",
       "        vertical-align: middle;\n",
       "    }\n",
       "\n",
       "    .dataframe tbody tr th {\n",
       "        vertical-align: top;\n",
       "    }\n",
       "\n",
       "    .dataframe thead th {\n",
       "        text-align: right;\n",
       "    }\n",
       "</style>\n",
       "<table border=\"1\" class=\"dataframe\">\n",
       "  <thead>\n",
       "    <tr style=\"text-align: right;\">\n",
       "      <th></th>\n",
       "      <th>Name</th>\n",
       "      <th>Price</th>\n",
       "      <th>Trending Ingredients</th>\n",
       "    </tr>\n",
       "  </thead>\n",
       "  <tbody>\n",
       "    <tr>\n",
       "      <th>0</th>\n",
       "      <td>A-Passioni™ Retinol Cream</td>\n",
       "      <td>74.00</td>\n",
       "      <td>[Retinol]</td>\n",
       "    </tr>\n",
       "    <tr>\n",
       "      <th>1</th>\n",
       "      <td>Violet-C Brightening Serum 20% Vitamin C + 10%...</td>\n",
       "      <td>88.00</td>\n",
       "      <td>[Vitamin C]</td>\n",
       "    </tr>\n",
       "    <tr>\n",
       "      <th>2</th>\n",
       "      <td>The Dewy Skin Cream</td>\n",
       "      <td>68.00</td>\n",
       "      <td>[Hyaluronic Acid]</td>\n",
       "    </tr>\n",
       "    <tr>\n",
       "      <th>3</th>\n",
       "      <td>A+ High-Dose Retinol Serum</td>\n",
       "      <td>85.00</td>\n",
       "      <td>[Retinol]</td>\n",
       "    </tr>\n",
       "    <tr>\n",
       "      <th>4</th>\n",
       "      <td>Glow2OH™ Dark Spot Toner</td>\n",
       "      <td>28.00</td>\n",
       "      <td>[Glycolic Acid, Chamomile]</td>\n",
       "    </tr>\n",
       "  </tbody>\n",
       "</table>\n",
       "</div>"
      ],
      "text/plain": [
       "                                                Name  Price  \\\n",
       "0                          A-Passioni™ Retinol Cream  74.00   \n",
       "1  Violet-C Brightening Serum 20% Vitamin C + 10%...  88.00   \n",
       "2                                The Dewy Skin Cream  68.00   \n",
       "3                         A+ High-Dose Retinol Serum  85.00   \n",
       "4                           Glow2OH™ Dark Spot Toner  28.00   \n",
       "\n",
       "         Trending Ingredients  \n",
       "0                   [Retinol]  \n",
       "1                 [Vitamin C]  \n",
       "2           [Hyaluronic Acid]  \n",
       "3                   [Retinol]  \n",
       "4  [Glycolic Acid, Chamomile]  "
      ]
     },
     "execution_count": 16,
     "metadata": {},
     "output_type": "execute_result"
    }
   ],
   "source": [
    "top_products.head()"
   ]
  },
  {
   "cell_type": "markdown",
   "metadata": {},
   "source": [
    "## Data visualizations using plotly"
   ]
  },
  {
   "cell_type": "code",
   "execution_count": 17,
   "metadata": {},
   "outputs": [],
   "source": [
    "plt.rcParams['figure.figsize'] = [20, 10]"
   ]
  },
  {
   "cell_type": "markdown",
   "metadata": {},
   "source": [
    "#### Bar chart plotting trending skincare products against prices"
   ]
  },
  {
   "cell_type": "code",
   "execution_count": 18,
   "metadata": {},
   "outputs": [
    {
     "data": {
      "text/html": [
       "<iframe id=\"igraph\" scrolling=\"no\" style=\"border:none;\" seamless=\"seamless\" src=\"https://plot.ly/~richaparande/12.embed\" height=\"525px\" width=\"100%\"></iframe>"
      ],
      "text/plain": [
       "<plotly.tools.PlotlyDisplay object>"
      ]
     },
     "execution_count": 18,
     "metadata": {},
     "output_type": "execute_result"
    }
   ],
   "source": [
    "trace_products = go.Bar(x=top_products.Name,\n",
    "                  y=top_products.Price,\n",
    "                  marker=dict(color='#7F11FB'))\n",
    "\n",
    "data = [trace_products]\n",
    "\n",
    "layout = go.Layout(title=\"Trending Skincare Products\",\n",
    "                yaxis=dict(title='Price'))\n",
    "\n",
    "fig = go.Figure(data=data, layout=layout)\n",
    "\n",
    "py.iplot(fig, filename='top_products')"
   ]
  },
  {
   "cell_type": "markdown",
   "metadata": {},
   "source": [
    "#### Bar chart plotting top ten skincare ingredients against counts"
   ]
  },
  {
   "cell_type": "code",
   "execution_count": 19,
   "metadata": {},
   "outputs": [
    {
     "data": {
      "text/html": [
       "<iframe id=\"igraph\" scrolling=\"no\" style=\"border:none;\" seamless=\"seamless\" src=\"https://plot.ly/~richaparande/6.embed\" height=\"525px\" width=\"100%\"></iframe>"
      ],
      "text/plain": [
       "<plotly.tools.PlotlyDisplay object>"
      ]
     },
     "execution_count": 19,
     "metadata": {},
     "output_type": "execute_result"
    }
   ],
   "source": [
    "trace_ingredients = go.Bar(x=top_ingredients.Ingredients,\n",
    "                  y=top_ingredients.Count,\n",
    "                  name='Ingredients',\n",
    "                  marker=dict(color='#06C45D'))\n",
    "\n",
    "data = [trace_ingredients]\n",
    "\n",
    "layout = go.Layout(title=\"Top Ten Skincare Ingredients\",\n",
    "                xaxis=dict(title='Ingredients'),\n",
    "                yaxis=dict(title='Count'))\n",
    "\n",
    "fig = go.Figure(data=data, layout=layout)\n",
    "\n",
    "py.iplot(fig, filename='top_ingredients')"
   ]
  },
  {
   "cell_type": "markdown",
   "metadata": {},
   "source": [
    "#### Bar chart plotting top ten skincare brands against counts"
   ]
  },
  {
   "cell_type": "code",
   "execution_count": 20,
   "metadata": {},
   "outputs": [
    {
     "data": {
      "text/html": [
       "<iframe id=\"igraph\" scrolling=\"no\" style=\"border:none;\" seamless=\"seamless\" src=\"https://plot.ly/~richaparande/8.embed\" height=\"525px\" width=\"100%\"></iframe>"
      ],
      "text/plain": [
       "<plotly.tools.PlotlyDisplay object>"
      ]
     },
     "execution_count": 20,
     "metadata": {},
     "output_type": "execute_result"
    }
   ],
   "source": [
    "trace_brands = go.Bar(x=top_brands.Brand,\n",
    "                  y=top_brands.Count,\n",
    "                  name='Brands',\n",
    "                  marker=dict(color='#F25207'))\n",
    "\n",
    "data = [trace_brands]\n",
    "\n",
    "layout = go.Layout(title=\"Top Ten Skincare Brands\",\n",
    "                xaxis=dict(title='Brands'),\n",
    "                yaxis=dict(title='Count'))\n",
    "\n",
    "fig = go.Figure(data=data, layout=layout)\n",
    "\n",
    "py.iplot(fig, filename='top_brands')"
   ]
  },
  {
   "cell_type": "code",
   "execution_count": null,
   "metadata": {},
   "outputs": [],
   "source": []
  }
 ],
 "metadata": {
  "kernelspec": {
   "display_name": "Python 3",
   "language": "python",
   "name": "python3"
  },
  "language_info": {
   "codemirror_mode": {
    "name": "ipython",
    "version": 3
   },
   "file_extension": ".py",
   "mimetype": "text/x-python",
   "name": "python",
   "nbconvert_exporter": "python",
   "pygments_lexer": "ipython3",
   "version": "3.6.5"
  }
 },
 "nbformat": 4,
 "nbformat_minor": 2
}
